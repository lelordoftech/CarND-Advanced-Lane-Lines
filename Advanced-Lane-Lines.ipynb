{
 "cells": [
  {
   "cell_type": "markdown",
   "metadata": {},
   "source": [
    "## Advanced Lane Finding Project\n",
    "\n",
    "The goals / steps of this project are the following:\n",
    "\n",
    "* Compute the camera calibration matrix and distortion coefficients given a set of chessboard images.\n",
    "* Apply a distortion correction to raw images.\n",
    "* Use color transforms, gradients, etc., to create a thresholded binary image.\n",
    "* Apply a perspective transform to rectify binary image (\"birds-eye view\").\n",
    "* Detect lane pixels and fit to find the lane boundary.\n",
    "* Determine the curvature of the lane and vehicle position with respect to center.\n",
    "* Warp the detected lane boundaries back onto the original image.\n",
    "* Output visual display of the lane boundaries and numerical estimation of lane curvature and vehicle position."
   ]
  },
  {
   "cell_type": "markdown",
   "metadata": {},
   "source": [
    "## Camera calibration"
   ]
  },
  {
   "cell_type": "code",
   "execution_count": null,
   "metadata": {
    "collapsed": true
   },
   "outputs": [],
   "source": [
    "import numpy as np\n",
    "import cv2\n",
    "import glob\n",
    "import matplotlib.pyplot as plt\n",
    "#%matplotlib qt\n",
    "# Visualizations will be shown in the notebook.\n",
    "%matplotlib inline\n",
    "import matplotlib.image as mpimg\n",
    "\n",
    "# prepare object points, like (0,0,0), (1,0,0), (2,0,0) ....,(6,5,0)\n",
    "objp = np.zeros((6*9,3), np.float32)\n",
    "objp[:,:2] = np.mgrid[0:9,0:6].T.reshape(-1,2)\n",
    "\n",
    "# Arrays to store object points and image points from all the images.\n",
    "objpoints = [] # 3d points in real world space\n",
    "imgpoints = [] # 2d points in image plane.\n",
    "\n",
    "# Make a list of calibration images\n",
    "images = glob.glob('camera_cal/calibration*.jpg')\n",
    "\n",
    "# Step through the list and search for chessboard corners\n",
    "for fname in images:\n",
    "    img = mpimg.imread(fname) \n",
    "    gray = cv2.cvtColor(img,cv2.COLOR_RGB2GRAY)\n",
    "\n",
    "    # Find the chessboard corners\n",
    "    ret, corners = cv2.findChessboardCorners(gray, (9,6),None)\n",
    "\n",
    "    # If found, add object points, image points\n",
    "    if ret == True:\n",
    "        objpoints.append(objp)\n",
    "        imgpoints.append(corners)\n",
    "\n",
    "        # Draw and display the corners\n",
    "        img = cv2.drawChessboardCorners(img, (9,6), corners, ret)\n",
    "        cv2.imwrite('output_images/drawChessboardCorners/' + fname.split('/')[-1], img)\n",
    "\n",
    "# Camera Calibration\n",
    "ret, mtx, dist, rvecs, tvecs = cv2.calibrateCamera(objpoints, imgpoints, gray.shape[::-1], None, None)"
   ]
  },
  {
   "cell_type": "markdown",
   "metadata": {},
   "source": [
    "## Distortion correction"
   ]
  },
  {
   "cell_type": "code",
   "execution_count": null,
   "metadata": {
    "collapsed": true
   },
   "outputs": [],
   "source": [
    "def cal_undistort(img):\n",
    "    undist = cv2.undistort(img, mtx, dist, None, mtx)\n",
    "    return undist"
   ]
  },
  {
   "cell_type": "code",
   "execution_count": null,
   "metadata": {
    "collapsed": true
   },
   "outputs": [],
   "source": [
    "# Test Undistorting image\n",
    "image = mpimg.imread('camera_cal/calibration1.jpg') \n",
    "undistort_image = cal_undistort(image)\n",
    "\n",
    "# Plot in notebook\n",
    "f, (ax1, ax2) = plt.subplots(1, 2, figsize=(20, 10))\n",
    "f.tight_layout()\n",
    "\n",
    "ax1.imshow(image)\n",
    "ax1.set_title('Original Image', fontsize=20)\n",
    "\n",
    "ax2.imshow(undistort_image)\n",
    "ax2.set_title('Distortion Correction', fontsize=20)\n",
    "\n",
    "plt.subplots_adjust(left=0.1, right=0.9, top=0.9, bottom=0.)\n",
    "\n",
    "# Save to local disk\n",
    "plt.savefig('output_images/distortion_correction.png')"
   ]
  },
  {
   "cell_type": "markdown",
   "metadata": {},
   "source": [
    "## Color and Gradient threshold"
   ]
  },
  {
   "cell_type": "markdown",
   "metadata": {},
   "source": [
    "### Combining Thresholds"
   ]
  },
  {
   "cell_type": "code",
   "execution_count": null,
   "metadata": {
    "collapsed": true
   },
   "outputs": [],
   "source": [
    "def abs_sobel_thresh(image, orient='x', sobel_kernel=3, thresh=(0, 255)):\n",
    "\n",
    "    sobel = None\n",
    "    # 1) Convert to grayscale\n",
    "    gray = cv2.cvtColor(image, cv2.COLOR_RGB2GRAY)\n",
    "    # 2) Take the derivative in x or y given orient = 'x' or 'y'\n",
    "    if orient == 'x':\n",
    "        sobel = cv2.Sobel(gray, cv2.CV_64F, 1, 0, ksize=sobel_kernel)\n",
    "    elif orient == 'y':\n",
    "        sobel = cv2.Sobel(gray, cv2.CV_64F, 0, 1, ksize=sobel_kernel)\n",
    "    # 3) Take the absolute value of the derivative or gradient\n",
    "    abs_sobel = np.absolute(sobel)\n",
    "    # 4) Scale to 8-bit (0 - 255) then convert to type = np.uint8\n",
    "    scaled_sobel = np.uint8(255*abs_sobel/np.max(abs_sobel))\n",
    "    # 5) Create a mask of 1's where the scaled gradient magnitude \n",
    "            # is > thresh_min and < thresh_max\n",
    "    grad_binary = np.zeros_like(scaled_sobel)\n",
    "    grad_binary[(scaled_sobel >= thresh[0]) & (scaled_sobel <= thresh[1])] = 1\n",
    "    # 6) Return this mask as your binary_output image\n",
    "\n",
    "    return grad_binary\n",
    "\n",
    "def mag_threshold(image, sobel_kernel=3, thresh=(0, 255)):\n",
    "\n",
    "    # 1) Convert to grayscale\n",
    "    gray = cv2.cvtColor(image, cv2.COLOR_RGB2GRAY)\n",
    "    # 2) Take the gradient in x and y separately\n",
    "    sobelx = cv2.Sobel(gray, cv2.CV_64F, 1, 0, ksize=sobel_kernel)\n",
    "    sobely = cv2.Sobel(gray, cv2.CV_64F, 0, 1, ksize=sobel_kernel)\n",
    "    # 3) Calculate the magnitude \n",
    "    magnitude = np.sqrt(np.square(sobelx) + np.square(sobely))\n",
    "    # 4) Scale to 8-bit (0 - 255) and convert to type = np.uint8\n",
    "    scaled_sobel = np.uint8(255*magnitude/np.max(magnitude))\n",
    "    # 5) Create a binary mask where mag thresholds are met\n",
    "    mag_binary = np.zeros_like(scaled_sobel)\n",
    "    mag_binary[(scaled_sobel >= thresh[0]) & (scaled_sobel <= thresh[1])] = 1\n",
    "    # 6) Return this mask as your binary_output image\n",
    "\n",
    "    return mag_binary\n",
    "\n",
    "def dir_threshold(image, sobel_kernel=3, thresh=(0, np.pi/2)):\n",
    "\n",
    "    # 1) Convert to grayscale\n",
    "    gray = cv2.cvtColor(image, cv2.COLOR_RGB2GRAY)\n",
    "    # 2) Take the gradient in x and y separately\n",
    "    sobelx = cv2.Sobel(gray, cv2.CV_64F, 1, 0, ksize=sobel_kernel)\n",
    "    sobely = cv2.Sobel(gray, cv2.CV_64F, 0, 1, ksize=sobel_kernel)\n",
    "    # 3) Take the absolute value of the x and y gradients\n",
    "    abs_sobelx = np.absolute(sobelx)\n",
    "    abs_sobely = np.absolute(sobely)\n",
    "    # 4) Use np.arctan2(abs_sobely, abs_sobelx) to calculate the direction of the gradient \n",
    "    direction = np.arctan2(abs_sobely, abs_sobelx)\n",
    "    # 5) Create a binary mask where direction thresholds are met\n",
    "    dir_binary = np.zeros_like(direction)\n",
    "    dir_binary[(direction >= thresh[0]) & (direction <= thresh[1])] = 1\n",
    "    # 6) Return this mask as your binary_output image\n",
    "\n",
    "    return dir_binary"
   ]
  },
  {
   "cell_type": "code",
   "execution_count": null,
   "metadata": {
    "collapsed": true
   },
   "outputs": [],
   "source": [
    "# Test Combining Thresholds\n",
    "image = mpimg.imread('test_images/test1.jpg') \n",
    "ksize = 15 # Choose a larger odd number to smooth gradient measurements\n",
    "\n",
    "# Apply each of the thresholding functions\n",
    "gradx = abs_sobel_thresh(image, orient='x', sobel_kernel=ksize, thresh=(50, 100))\n",
    "grady = abs_sobel_thresh(image, orient='y', sobel_kernel=ksize, thresh=(50, 100))\n",
    "mag_binary = mag_threshold(image, sobel_kernel=ksize, thresh=(50, 100))\n",
    "dir_binary = dir_threshold(image, sobel_kernel=ksize, thresh=(0.7, 1.3))\n",
    "\n",
    "# Plot in notebook\n",
    "f, (ax1, ax2, ax3, ax4, ax5) = plt.subplots(1, 5, figsize=(25, 5))\n",
    "f.tight_layout()\n",
    "\n",
    "ax1.imshow(image)\n",
    "ax1.set_title('Original Image', fontsize=20)\n",
    "\n",
    "ax2.imshow(gradx, cmap='gray')\n",
    "ax2.set_title('ABS Sobel Thresh X', fontsize=20)\n",
    "\n",
    "ax3.imshow(grady, cmap='gray')\n",
    "ax3.set_title('ABS Sobel Thresh Y', fontsize=20)\n",
    "\n",
    "ax4.imshow(dir_binary, cmap='gray')\n",
    "ax4.set_title('Magnitude', fontsize=20)\n",
    "\n",
    "ax5.imshow(gradx, cmap='gray')\n",
    "ax5.set_title('Direction', fontsize=20)\n",
    "\n",
    "plt.subplots_adjust(left=0.1, right=0.9, top=0.9, bottom=0.)\n",
    "\n",
    "# Save to local disk\n",
    "plt.savefig('output_images/combining_thresholds.png')"
   ]
  },
  {
   "cell_type": "markdown",
   "metadata": {},
   "source": [
    "### HLS space"
   ]
  },
  {
   "cell_type": "code",
   "execution_count": null,
   "metadata": {
    "collapsed": true
   },
   "outputs": [],
   "source": [
    "def hls_select(img, thresh=(0, 255)):\n",
    "    # 1) Convert to HLS color space\n",
    "    hls = cv2.cvtColor(img, cv2.COLOR_RGB2HLS)\n",
    "    l = hls[:,:,1]\n",
    "    s = hls[:,:,2]\n",
    "    # 2) Apply a threshold to the S channel\n",
    "    l_sum_light = sum(map(sum, l[int(l.shape[0]/2):,:]))\n",
    "    s_sum_light = sum(map(sum, s[int(s.shape[0]/2):,:]))\n",
    "    binary_output = np.zeros_like(s)\n",
    "    if (l_sum_light >= s_sum_light):\n",
    "        binary_output[(s >= thresh[0]) & (s <= thresh[1])] = 1\n",
    "    else:\n",
    "        binary_output[(l >= thresh[0]) & (l <= thresh[1])] = 1\n",
    "    # 3) Return a binary image of threshold result\n",
    "    return binary_output"
   ]
  },
  {
   "cell_type": "code",
   "execution_count": null,
   "metadata": {
    "collapsed": true
   },
   "outputs": [],
   "source": [
    "# Test HLS select\n",
    "image = mpimg.imread('test_images/new/1040.jpg')\n",
    "hls_image = hls_select(image, thresh=(100, 255))\n",
    "\n",
    "# Plot in notebook\n",
    "f, (ax1, ax2) = plt.subplots(1, 2, figsize=(20, 10))\n",
    "f.tight_layout()\n",
    "ax1.imshow(image)\n",
    "ax1.set_title('Original Image', fontsize=20)\n",
    "ax2.imshow(hls_image, cmap='gray')\n",
    "ax2.set_title('Threshold - LS channel (HLS)', fontsize=20)\n",
    "plt.subplots_adjust(left=0.1, right=0.9, top=0.9, bottom=0.)\n",
    "\n",
    "\n",
    "image = mpimg.imread('test_images/new/1031.jpg')\n",
    "hls_image = hls_select(image, thresh=(100, 255))\n",
    "\n",
    "# Plot in notebook\n",
    "f, (ax1, ax2) = plt.subplots(1, 2, figsize=(20, 10))\n",
    "f.tight_layout()\n",
    "ax1.imshow(image)\n",
    "ax1.set_title('Original Image', fontsize=20)\n",
    "ax2.imshow(hls_image, cmap='gray')\n",
    "ax2.set_title('Threshold - LS channel (HLS)', fontsize=20)\n",
    "plt.subplots_adjust(left=0.1, right=0.9, top=0.9, bottom=0.)\n",
    "\n",
    "# Save to local disk\n",
    "plt.savefig('output_images/thresholds_s_channel.png')"
   ]
  },
  {
   "cell_type": "markdown",
   "metadata": {},
   "source": [
    "### Pipeline Threshold"
   ]
  },
  {
   "cell_type": "code",
   "execution_count": null,
   "metadata": {
    "collapsed": true
   },
   "outputs": [],
   "source": [
    "def pipeline_threshold(img, kernel_size=15, gradxy_thresh=(50, 100), mag_thresh=(50, 100), dir_thresh=(0.7, 1.3), s_thresh=(100, 255)):\n",
    "    img = np.copy(img)\n",
    "\n",
    "    # Threshold x gradient\n",
    "    gradx = abs_sobel_thresh(img, 'x', sobel_kernel=kernel_size, thresh=gradxy_thresh)\n",
    "\n",
    "    # Threshold y gradient\n",
    "    grady = abs_sobel_thresh(img, 'y', sobel_kernel=kernel_size, thresh=gradxy_thresh)\n",
    "\n",
    "    # Magnitude\n",
    "    mag_binary = mag_threshold(img, sobel_kernel=kernel_size, thresh=mag_thresh)\n",
    "\n",
    "    # Direction\n",
    "    dir_binary = dir_threshold(image, sobel_kernel=kernel_size, thresh=dir_thresh)\n",
    "\n",
    "    # Threshold gray combine\n",
    "    gray_combined = np.zeros_like(dir_binary)\n",
    "    #gray_combined[((gradx == 1) & (grady == 1)) | ((mag_binary == 1) & (dir_binary == 1))] = 1\n",
    "    gray_combined[(gradx == 1) & (mag_binary == 1) & (dir_binary == 1)] = 1\n",
    "\n",
    "    # Threshold color channel\n",
    "    ls_binary = hls_select(img, thresh=s_thresh)\n",
    "\n",
    "    # Stack each channel\n",
    "    # Note color_binary[:, :, 0] is all 0s, effectively an all black image. It might\n",
    "    # be beneficial to replace this channel with something else.\n",
    "    color_binary = np.dstack((np.zeros_like(ls_binary), ls_binary, gray_combined))\n",
    "    \n",
    "    # Threshold combine\n",
    "    combined = np.zeros_like(dir_binary)\n",
    "    combined[((ls_binary == 1) | (gray_combined == 1))] = 1\n",
    "\n",
    "    return color_binary, combined"
   ]
  },
  {
   "cell_type": "code",
   "execution_count": null,
   "metadata": {
    "collapsed": true
   },
   "outputs": [],
   "source": [
    "# Test Pipeline Threshold\n",
    "image = mpimg.imread('test_images/new/1040.jpg')\n",
    "color_result, gray_result = pipeline_threshold(image)\n",
    "\n",
    "# Plot in notebook\n",
    "f, (ax1, ax2, ax3) = plt.subplots(1, 3, figsize=(15, 5))\n",
    "f.tight_layout()\n",
    "ax1.imshow(image)\n",
    "ax1.set_title('Original Image', fontsize=20)\n",
    "\n",
    "ax2.imshow(color_result)\n",
    "ax2.set_title('Pipeline Result Color', fontsize=20)\n",
    "\n",
    "ax3.imshow(gray_result, cmap='gray')\n",
    "ax3.set_title('Pipeline Result Gray Scale', fontsize=20)\n",
    "\n",
    "plt.subplots_adjust(left=0.1, right=0.9, top=0.9, bottom=0.)\n",
    "\n",
    "# Save to local disk\n",
    "plt.savefig('output_images/pipeline_threshold.png')\n",
    "\n",
    "image = mpimg.imread('test_images/new/1031.jpg')\n",
    "color_result, gray_result = pipeline_threshold(image)\n",
    "\n",
    "# Plot in notebook\n",
    "f, (ax1, ax2, ax3) = plt.subplots(1, 3, figsize=(15, 5))\n",
    "f.tight_layout()\n",
    "ax1.imshow(image)\n",
    "ax1.set_title('Original Image', fontsize=20)\n",
    "\n",
    "ax2.imshow(color_result)\n",
    "ax2.set_title('Pipeline Result Color', fontsize=20)\n",
    "\n",
    "ax3.imshow(gray_result, cmap='gray')\n",
    "ax3.set_title('Pipeline Result Gray Scale', fontsize=20)\n",
    "\n",
    "plt.subplots_adjust(left=0.1, right=0.9, top=0.9, bottom=0.)"
   ]
  },
  {
   "cell_type": "markdown",
   "metadata": {},
   "source": [
    "## Perspective transform"
   ]
  },
  {
   "cell_type": "code",
   "execution_count": null,
   "metadata": {
    "collapsed": true,
    "scrolled": false
   },
   "outputs": [],
   "source": [
    "def get_points(img):\n",
    "    img_size = (img.shape[1], img.shape[0])\n",
    "\n",
    "    src = np.float32(\n",
    "        [[(img_size[0] / 2 - 85), img_size[1] / 2 + 100],\n",
    "        [                      0, img_size[1]],\n",
    "        [            img_size[0], img_size[1]],\n",
    "        [ (img_size[0] / 2 + 85), img_size[1] / 2 + 100]])\n",
    "    dst = np.float32(\n",
    "        [[(img_size[0] / 4), 0],\n",
    "        [(img_size[0] / 4), img_size[1]],\n",
    "        [(img_size[0] * 3 / 4), img_size[1]],\n",
    "        [(img_size[0] * 3 / 4), 0]])\n",
    "\n",
    "    return src, dst\n",
    "\n",
    "def warped_process(img):\n",
    "    img_size = (img.shape[1], img.shape[0])\n",
    "\n",
    "    # 1) Undistort\n",
    "    img = cal_undistort(img)\n",
    "    # 2) Get source points and dest. points\n",
    "    src, dst = get_points(img)\n",
    "    # 3) use cv2.getPerspectiveTransform() to get M, the transform matrix\n",
    "    M = cv2.getPerspectiveTransform(src, dst)\n",
    "    Minv = cv2.getPerspectiveTransform(dst, src)\n",
    "    # 4) use cv2.warpPerspective() to warp your image to a top-down view\n",
    "    warped = cv2.warpPerspective(img, M, img_size, flags=cv2.INTER_LINEAR)\n",
    "\n",
    "    return warped, M, Minv"
   ]
  },
  {
   "cell_type": "code",
   "execution_count": null,
   "metadata": {
    "collapsed": true
   },
   "outputs": [],
   "source": [
    "\n",
    "# Test Perspective Transform\n",
    "images = glob.glob('test_images/*.jpg')\n",
    "input_images = []\n",
    "output_images = []\n",
    "for image_name in images:\n",
    "    image = mpimg.imread(image_name)\n",
    "    top_down, M, Minv = warped_process(image)\n",
    "\n",
    "    # Draw source points and dest. points in to images\n",
    "    src, dst = get_points(image)\n",
    "\n",
    "    pts_src = np.array(src, np.int32)\n",
    "    cv2.polylines(image, [pts_src], True, (0,255,0), 4)\n",
    "\n",
    "    pts_dst = np.array(dst, np.int32)\n",
    "    cv2.polylines(top_down, [pts_dst], True, (0,255,0), 4)\n",
    "\n",
    "    input_images.append(image)\n",
    "    output_images.append(top_down)\n",
    "\n",
    "# Plot in notebook\n",
    "num_of_output = len(output_images)\n",
    "for i in range(num_of_output):\n",
    "    f, (ax1, ax2) = plt.subplots(1, 2, figsize=(10, 5))\n",
    "    f.tight_layout()\n",
    "\n",
    "    ax1.imshow(input_images[i])\n",
    "    ax1.set_title('Original Image', fontsize=20)\n",
    "    ax2.imshow(output_images[i])\n",
    "    ax2.set_title('Perspective Transform', fontsize=20)\n",
    "    \n",
    "    plt.subplots_adjust(left=0.1, right=0.9, top=0.9, bottom=0.)\n",
    "\n",
    "# Save to local disk\n",
    "plt.savefig('output_images/perspective_transform.png')"
   ]
  },
  {
   "cell_type": "markdown",
   "metadata": {},
   "source": [
    "## Sliding Window Search"
   ]
  },
  {
   "cell_type": "code",
   "execution_count": null,
   "metadata": {
    "collapsed": true
   },
   "outputs": [],
   "source": [
    "# Draw window areas\n",
    "def window_mask(width, height, img_ref, center, level):\n",
    "    img_ref_height = img_ref.shape[0]\n",
    "    img_ref_width = img_ref.shape[1]\n",
    "    output = np.zeros_like(img_ref)\n",
    "    output[int(img_ref_height-(level+1)*height) : int(img_ref_height-level*height),\n",
    "           max(0, int(center-width/2)) : min(int(center+width/2), img_ref_width)] = 1\n",
    "    return output"
   ]
  },
  {
   "cell_type": "code",
   "execution_count": null,
   "metadata": {
    "collapsed": true
   },
   "outputs": [],
   "source": [
    "# Test window mask\n",
    "image = cv2.imread('output_images/test_warped_example.jpg', cv2.IMREAD_GRAYSCALE)\n",
    "mask = window_mask(50, 72, image, 200.0, 1)\n",
    "plt.figure()\n",
    "plt.imshow(mask)"
   ]
  },
  {
   "cell_type": "code",
   "execution_count": null,
   "metadata": {
    "collapsed": true
   },
   "outputs": [],
   "source": [
    "# Find all window centroids\n",
    "def find_window_centroids(image, window_centroids_pre=[], window_width=50, window_height=72, margin=10):\n",
    "\n",
    "    img_width = image.shape[1]\n",
    "    img_height = image.shape[0]\n",
    "\n",
    "    # Store the (left,right) window centroid positions per level\n",
    "    window_centroids = []\n",
    "    # Create our window template that we will use for convolutions\n",
    "    window = np.ones(window_width)\n",
    "\n",
    "    # First find the two starting positions for the left and right lane by using np.sum\n",
    "    # to get the vertical image slice and then np.convolve the vertical image slice \n",
    "    # with the window template \n",
    "\n",
    "    # Sum quarter bottom of image to get slice, could use a different ratio\n",
    "    # Use window_width/2 as offset because convolution signal reference is \n",
    "    # at right side of window, not center of window\n",
    "    offset = window_width/2 - 20 # Adjust position of mask window\n",
    "    offset_window = int(img_width/5) # Decrease region for line detection\n",
    "    offset_frame = window_width\n",
    "    len_of_lane = 450 # Default value\n",
    "\n",
    "    l_sum = np.sum(image[int(3*img_height/4):, offset_window:int(img_width/2)], axis=0)\n",
    "    l_conv = np.convolve(window, l_sum)\n",
    "    l_max = np.argmax(l_conv) + offset_window\n",
    "\n",
    "    r_sum = np.sum(image[int(3*img_height/4):, int(img_width/2):int(img_width)-offset_window], axis=0)\n",
    "    r_conv = np.convolve(window, r_sum)\n",
    "    r_max = np.argmax(r_conv) + offset_window\n",
    "\n",
    "    l_center = 0\n",
    "    r_center = 0\n",
    "    if (l_max > 0 and r_max == 0): # Cannot find r_center\n",
    "        l_center = l_max - offset\n",
    "        if ((r_center == 0) | # In case the first level\n",
    "            (abs(r_center - l_center - len_of_lane) > offset_frame)): # In case len_of_lane is too different previous value\n",
    "            r_center = l_center + len_of_lane\n",
    "    elif (l_max == 0 and r_max > 0): # Cannot find l_center\n",
    "        r_center = r_max - offset\n",
    "        if ((l_center == 0) | \n",
    "            (abs(r_center - l_center - len_of_lane) > offset_frame)): # In case len_of_lane is too different previous value\n",
    "            l_center = r_center - len_of_lane\n",
    "    elif (l_max > 0 and r_max > 0): # Found l_center and r_center\n",
    "        l_center = l_max - offset\n",
    "        r_center = r_max - offset\n",
    "    # Cannot find l_center and r_center: keep previous value\n",
    "    r_center += int(img_width/2) # Change from Relative Position to Absolute Position\n",
    "\n",
    "    # In case len_of_lane is too different previous value\n",
    "    if (abs(r_center - l_center - len_of_lane) > offset_frame):\n",
    "        if (np.average(l_conv) >= np.average(r_conv)): # Find trustly point\n",
    "            r_center = l_center + len_of_lane\n",
    "        else:\n",
    "            l_center = r_center - len_of_lane\n",
    "\n",
    "    # Add what we found for the first \n",
    "    if len(window_centroids_pre) > 0:\n",
    "        l_center_pre = window_centroids_pre[0][0]\n",
    "        r_center_pre = window_centroids_pre[0][1]\n",
    "\n",
    "        if abs(l_center_pre-l_center) > offset_frame:\n",
    "            l_center = l_center_pre\n",
    "        if abs(r_center_pre-r_center) > offset_frame:\n",
    "            r_center = r_center_pre\n",
    "    window_centroids.append((l_center, r_center, img_height))\n",
    "\n",
    "    len_of_lane = r_center - l_center # Update len_of_lane\n",
    "\n",
    "    # Go through each layer looking for max pixel locations\n",
    "    num_of_layer = int(img_height/window_height)\n",
    "    for level in range(1, num_of_layer):\n",
    "        # convolve the window into the vertical slice of the image\n",
    "        image_layer = np.sum(image[int(img_height-(level+1)*window_height):\n",
    "                                    int(img_height-level*window_height),\n",
    "                                    :], axis=0)\n",
    "        conv_signal = np.convolve(window, image_layer)\n",
    "\n",
    "        # Find the best left centroid by using past left center as a reference\n",
    "        l_min_index = int(max(l_center + offset - margin, 0))\n",
    "        l_max_index = int(min(l_center + offset + margin, img_width))\n",
    "        l_max = 0\n",
    "        l_conv_signal = conv_signal[l_min_index:l_max_index]\n",
    "        if (len(l_conv_signal) > 0):\n",
    "            l_max = np.argmax(l_conv_signal)\n",
    "\n",
    "        # Find the best right centroid by using past right center as a reference\n",
    "        r_min_index = int(max(r_center + offset - margin, 0))\n",
    "        r_max_index = int(min(r_center + offset + margin, img_width))\n",
    "        r_max = 0\n",
    "        r_conv_signal = conv_signal[r_min_index:r_max_index]\n",
    "        if (len(r_conv_signal) > 0):\n",
    "            r_max = np.argmax(l_conv_signal)\n",
    "\n",
    "        if (l_max > 0 and r_max == 0):\n",
    "            l_center = l_max + l_min_index - offset\n",
    "            if (abs(r_center - l_center - len_of_lane) > offset_frame):\n",
    "                r_center = l_center + len_of_lane\n",
    "        elif (l_max == 0 and r_max > 0):\n",
    "            r_center = r_max + r_min_index - offset\n",
    "            if (abs(r_center - l_center - len_of_lane) > offset_frame):\n",
    "                l_center = r_center - len_of_lane\n",
    "        elif (l_max > 0 and r_max > 0):\n",
    "            l_center = l_max + l_min_index - offset\n",
    "            r_center = r_max + r_min_index - offset\n",
    "\n",
    "        # Add what we found for that layer\n",
    "        if len(window_centroids_pre) > 0:\n",
    "            l_center_pre = window_centroids_pre[level][0]\n",
    "            r_center_pre = window_centroids_pre[level][1]\n",
    "\n",
    "            if abs(l_center_pre-l_center) > offset_frame:\n",
    "                l_center = l_center_pre\n",
    "            if abs(r_center_pre-r_center) > offset_frame:\n",
    "                r_center = r_center_pre\n",
    "\n",
    "        window_centroids.append((l_center, r_center, img_height-level*window_height))\n",
    "\n",
    "    return window_centroids"
   ]
  },
  {
   "cell_type": "code",
   "execution_count": null,
   "metadata": {
    "collapsed": true
   },
   "outputs": [],
   "source": [
    "# Draw all window centroids\n",
    "def draw_window_results(image, window_centroids, window_width=50, window_height=72):\n",
    "\n",
    "    # If we found any window centers\n",
    "    if len(window_centroids) > 0:\n",
    "\n",
    "        # Points used to draw all the left and right windows\n",
    "        l_points = np.zeros_like(image)\n",
    "        r_points = np.zeros_like(image)\n",
    "\n",
    "        # Go through each level and draw the windows\n",
    "        for level in range(0, len(window_centroids)):\n",
    "            l_mask = window_mask(window_width,\n",
    "                                    window_height,\n",
    "                                    image,\n",
    "                                    window_centroids[level][0],\n",
    "                                    level)\n",
    "            r_mask = window_mask(window_width,\n",
    "                                    window_height,\n",
    "                                    image,\n",
    "                                    window_centroids[level][1],\n",
    "                                    level)\n",
    "            # Add graphic points from window mask here to total pixels found \n",
    "            l_points[(l_points == 255) | ((l_mask == 1) ) ] = 255\n",
    "            r_points[(r_points == 255) | ((r_mask == 1) ) ] = 255\n",
    "\n",
    "        # Draw the results\n",
    "        #template = np.array(r_points + l_points, np.uint8)\n",
    "        r_template = np.array(r_points, np.uint8)\n",
    "        l_template = np.array(l_points, np.uint8)\n",
    "\n",
    "        # create a zero color channel\n",
    "        zero_channel = np.zeros_like(r_template)\n",
    "        # make window pixels green\n",
    "        r_template = np.array(cv2.merge((zero_channel, zero_channel, r_template)),np.uint8)\n",
    "        l_template = np.array(cv2.merge((l_template, zero_channel, zero_channel)),np.uint8)\n",
    "\n",
    "        # making the original road pixels 3 color channels\n",
    "        warpage = np.array(cv2.merge((image, image, image)),np.uint8)\n",
    "\n",
    "        # overlay the orignal road image with window results\n",
    "        template = cv2.addWeighted(r_template, 1, l_template, 1, 0.0)\n",
    "        output = cv2.addWeighted(warpage, 1, template, 0.5, 0.0)\n",
    "\n",
    "        # Draw line fit\n",
    "        lines_fit = np.asarray(window_centroids).T\n",
    "        leftx = lines_fit[0]\n",
    "        rightx = lines_fit[1]\n",
    "        ploty = lines_fit[2]\n",
    "        left_fit = np.polyfit(ploty, leftx, 2) # f(y)=Ay**2 + By + C\n",
    "        left_fitx = left_fit[0]*ploty**2 + left_fit[1]*ploty + left_fit[2]\n",
    "        right_fit = np.polyfit(ploty, rightx, 2) # f(y)=Ay**2 + By + C\n",
    "        right_fitx = right_fit[0]*ploty**2 + right_fit[1]*ploty + right_fit[2]\n",
    "        \n",
    "        pts_src = np.array([left_fitx, ploty],  np.int32).T\n",
    "        cv2.polylines(output, [pts_src], False, (0,255,0), thickness=10)#, lineType=cv2.CV_AA)\n",
    "        pts_src = np.array([right_fitx, ploty],  np.int32).T\n",
    "        cv2.polylines(output, [pts_src], False, (0,255,0), thickness=10)#, lineType=cv2.CV_AA)\n",
    "\n",
    "    # If no window centers found, just display orginal road image\n",
    "    else:\n",
    "        output = np.array(cv2.merge((image, image, image)),np.uint8)\n",
    "\n",
    "    return output"
   ]
  },
  {
   "cell_type": "code",
   "execution_count": null,
   "metadata": {
    "collapsed": true
   },
   "outputs": [],
   "source": [
    "# Test Sliding Window Search\n",
    "window_centroids_pre = [] # init\n",
    "\n",
    "image = mpimg.imread('test_images/new/1040.jpg')\n",
    "color_image, thresh_image = pipeline_threshold(image)\n",
    "warped_image, M, Minv = warped_process(thresh_image)\n",
    "warped_image = np.uint8(255*warped_image) # un-scaled\n",
    "\n",
    "window_width = 80\n",
    "window_height = int(image.shape[0]/40) # Break image into 9 vertical layers since image height is 720\n",
    "margin = 20 # How much to slide left and right for searching\n",
    "window_centroids = find_window_centroids(warped_image, window_centroids_pre, window_width, window_height, margin)\n",
    "window_centroids_pre = window_centroids # backup\n",
    "output = draw_window_results(warped_image, window_centroids, window_width, window_height)\n",
    "\n",
    "# Display the final results\n",
    "plt.figure()\n",
    "plt.imshow(output)\n",
    "plt.title('window fitting results')\n",
    "\n",
    "# Save to local disk\n",
    "plt.savefig('output_images/window_fitting.png')"
   ]
  },
  {
   "cell_type": "markdown",
   "metadata": {},
   "source": [
    "## Measuring Curvature"
   ]
  },
  {
   "cell_type": "code",
   "execution_count": null,
   "metadata": {
    "collapsed": true
   },
   "outputs": [],
   "source": [
    "def measuring_curvature(linex, ploty, y_eval, xm_per_pix=30/720, ym_per_pix=3.7/700):\n",
    "    # Fit new polynomials to x,y in world space    \n",
    "    line_fit_cr = np.polyfit(ploty*ym_per_pix, linex*xm_per_pix, 2) # f(y)=Ay**2 + By + C\n",
    "    y_eval_cr = y_eval*ym_per_pix\n",
    "\n",
    "    line_curverad = ((1 + (2*line_fit_cr[0]*y_eval_cr + line_fit_cr[1])**2)**1.5) / np.absolute(2*line_fit_cr[0])\n",
    "    return line_curverad"
   ]
  },
  {
   "cell_type": "markdown",
   "metadata": {},
   "source": [
    "### Test Measuring Curvature"
   ]
  },
  {
   "cell_type": "code",
   "execution_count": null,
   "metadata": {
    "collapsed": true
   },
   "outputs": [],
   "source": [
    "image = mpimg.imread('test_images/new/679.jpg')\n",
    "color_image, thresh_image = pipeline_threshold(image)\n",
    "warped_image, M, Minv = warped_process(thresh_image)\n",
    "warped_image = np.uint8(255*warped_image) # un-scaled\n",
    "\n",
    "window_width = 60\n",
    "window_height = int(image.shape[0]/40) # Break image into 9 vertical layers since image height is 720\n",
    "margin = 20 # How much to slide left and right for searching\n",
    "window_centroids = find_window_centroids(warped_image, [], window_width, window_height, margin)\n",
    "\n",
    "lines_fit = np.asarray(window_centroids).T\n",
    "leftx = lines_fit[0]\n",
    "rightx = lines_fit[1]\n",
    "ploty = lines_fit[2]\n",
    "y_eval = np.max(ploty)"
   ]
  },
  {
   "cell_type": "code",
   "execution_count": null,
   "metadata": {
    "collapsed": true
   },
   "outputs": [],
   "source": [
    "# Fit a second order polynomial to pixel positions in each fake lane line\n",
    "left_fit = np.polyfit(ploty, leftx, 2) # f(y)=Ay**2 + By + C\n",
    "left_fitx = left_fit[0]*ploty**2 + left_fit[1]*ploty + left_fit[2]\n",
    "right_fit = np.polyfit(ploty, rightx, 2) # f(y)=Ay**2 + By + C\n",
    "right_fitx = right_fit[0]*ploty**2 + right_fit[1]*ploty + right_fit[2]\n",
    "\n",
    "# Plot up the data\n",
    "mark_size = 3\n",
    "plt.plot(leftx, ploty, 'o', color='red', markersize=mark_size)\n",
    "plt.plot(rightx, ploty, 'o', color='blue', markersize=mark_size)\n",
    "plt.plot(left_fitx, ploty, color='green', linewidth=3)\n",
    "plt.plot(right_fitx, ploty, color='green', linewidth=3)\n",
    "plt.xlim(0, 1280)\n",
    "plt.ylim(0, 720)\n",
    "\n",
    "plt.gca().invert_yaxis() # to visualize as we do the images\n",
    "plt.show()"
   ]
  },
  {
   "cell_type": "code",
   "execution_count": null,
   "metadata": {
    "collapsed": true
   },
   "outputs": [],
   "source": [
    "# Test Measuring Curvature\n",
    "y_eval = np.max(ploty)\n",
    "\n",
    "# Calculate the new radius of curvature\n",
    "left_curverad = measuring_curvature(leftx, ploty, y_eval)\n",
    "right_curverad = measuring_curvature(rightx, ploty, y_eval)\n",
    "\n",
    "# Now our radius of curvature is in meters\n",
    "print(left_curverad, 'm', right_curverad, 'm')"
   ]
  },
  {
   "cell_type": "markdown",
   "metadata": {},
   "source": [
    "## Drawing Lane"
   ]
  },
  {
   "cell_type": "code",
   "execution_count": null,
   "metadata": {
    "collapsed": true
   },
   "outputs": [],
   "source": [
    "def drawing_lane(image, warped, Minv, left_fitx, right_fitx, ploty):\n",
    "    img_size = (img.shape[1], img.shape[0])\n",
    "\n",
    "    # Create an image to draw the lines on\n",
    "    warp_zero = np.zeros_like(warped).astype(np.uint8)\n",
    "    color_warp = np.dstack((warp_zero, warp_zero, warp_zero))\n",
    "\n",
    "    # Recast the x and y points into usable format for cv2.fillPoly()\n",
    "    pts_left = np.array([np.transpose(np.vstack([left_fitx, ploty]))])\n",
    "    pts_right = np.array([np.flipud(np.transpose(np.vstack([right_fitx, ploty])))])\n",
    "    pts = np.hstack((pts_left, pts_right))\n",
    "\n",
    "    # Draw the lane onto the warped blank image\n",
    "    cv2.fillPoly(color_warp, np.int_([pts]), (0,255, 0))\n",
    "\n",
    "    # Warp the blank back to original image space using inverse perspective matrix (Minv)\n",
    "    newwarp = cv2.warpPerspective(color_warp, Minv, img_size) \n",
    "    # Combine the result with the original image\n",
    "    result = cv2.addWeighted(cal_undistort(image), 1, newwarp, 0.3, 0)\n",
    "\n",
    "    return result"
   ]
  },
  {
   "cell_type": "markdown",
   "metadata": {},
   "source": [
    "## Process Image"
   ]
  },
  {
   "cell_type": "code",
   "execution_count": null,
   "metadata": {
    "collapsed": true,
    "scrolled": false
   },
   "outputs": [],
   "source": [
    "window_centroids_pre = [] # init\n",
    "debug_mode = True\n",
    "def process_image(image):\n",
    "    global window_centroids_pre\n",
    "\n",
    "    # Step 1\n",
    "    color_image, thresh_image = pipeline_threshold(image)\n",
    "\n",
    "    # Step 2\n",
    "    warped_image, M, Minv = warped_process(thresh_image)\n",
    "    warped_image = np.uint8(255*warped_image) # un-scaled\n",
    "\n",
    "    # Step 3\n",
    "    window_width = 60\n",
    "    window_height = int(image.shape[0]/40) # Break image into 9 vertical layers since image height is 720\n",
    "    margin = 20 # How much to slide left and right for searching\n",
    "    window_centroids = find_window_centroids(warped_image, window_centroids_pre, window_width, window_height, margin)\n",
    "    window_centroids_pre = window_centroids # backup\n",
    "    draw_window = draw_window_results(warped_image, window_centroids, window_width, window_height)\n",
    "\n",
    "    # Step 4\n",
    "    lines_fit = np.asarray(window_centroids).T\n",
    "    leftx = lines_fit[0]\n",
    "    rightx = lines_fit[1]\n",
    "    ploty = lines_fit[2]\n",
    "    y_eval = np.max(ploty)\n",
    "    left_curverad = measuring_curvature(leftx, ploty, y_eval)\n",
    "    right_curverad = measuring_curvature(rightx, ploty, y_eval)\n",
    "\n",
    "    # Step 5\n",
    "    left_fit = np.polyfit(ploty, leftx, 2) # f(y)=Ay**2 + By + C\n",
    "    left_fitx = left_fit[0]*ploty**2 + left_fit[1]*ploty + left_fit[2]\n",
    "    right_fit = np.polyfit(ploty, rightx, 2) # f(y)=Ay**2 + By + C\n",
    "    right_fitx = right_fit[0]*ploty**2 + right_fit[1]*ploty + right_fit[2]\n",
    "\n",
    "    result = drawing_lane(image, warped_image, Minv, left_fitx, right_fitx, ploty)\n",
    "\n",
    "    staus_text1 = 'Curverad Left: ' + str(left_curverad) + 'm'\n",
    "    staus_text2 = 'Curverad Right: ' + str(right_curverad) + 'm'\n",
    "    cv2.putText(result, staus_text1, (100,100), cv2.FONT_HERSHEY_SIMPLEX, 2, 255, 2)\n",
    "    cv2.putText(result, staus_text2, (100,200), cv2.FONT_HERSHEY_SIMPLEX, 2, 255, 2)\n",
    "\n",
    "    if debug_mode:\n",
    "        return thresh_image, draw_window, result\n",
    "    else:\n",
    "        return result"
   ]
  },
  {
   "cell_type": "code",
   "execution_count": null,
   "metadata": {
    "collapsed": true
   },
   "outputs": [],
   "source": [
    "debug_mode = False\n",
    "image = mpimg.imread('test_images/test1.jpg')\n",
    "window_centroids_pre = [] # init\n",
    "output_image = process_image(image)\n",
    "\n",
    "# Plot in notebook\n",
    "f, (ax1, ax2) = plt.subplots(1, 2, figsize=(20, 10))\n",
    "f.tight_layout()\n",
    "ax1.imshow(image)\n",
    "ax1.set_title('Original Image', fontsize=20)\n",
    "\n",
    "ax2.imshow(output_image)\n",
    "ax2.set_title('Lane Detection', fontsize=20)\n",
    "\n",
    "plt.subplots_adjust(left=0.1, right=0.9, top=0.9, bottom=0.)\n",
    "\n",
    "# Save to local disk\n",
    "plt.savefig('output_images/lane_detection.png')"
   ]
  },
  {
   "cell_type": "code",
   "execution_count": null,
   "metadata": {
    "collapsed": true
   },
   "outputs": [],
   "source": [
    "# Make a list of calibration images\n",
    "images = glob.glob('test_images/new/*.jpg')"
   ]
  },
  {
   "cell_type": "code",
   "execution_count": null,
   "metadata": {
    "collapsed": true,
    "scrolled": false
   },
   "outputs": [],
   "source": [
    "#Test\n",
    "debug_mode = True\n",
    "input_images = []\n",
    "output_images = []\n",
    "for image_name in images:\n",
    "    image = mpimg.imread(image_name)\n",
    "    input_images.append(image)\n",
    "    window_centroids_pre = [] # init\n",
    "    output_images.append(process_image(image))\n",
    "\n",
    "# Plot in notebook\n",
    "num_of_output = len(output_images)\n",
    "for i in range(num_of_output):\n",
    "    f, (ax1, ax2, ax3, ax4) = plt.subplots(1, 4, figsize=(40, 10))\n",
    "    f.tight_layout()\n",
    "\n",
    "    ax1.imshow(input_images[i])\n",
    "    ax1.set_title('%s' %images[i].split('\\\\')[-1].split('/')[-1], fontsize=20)\n",
    "    ax2.imshow(output_images[i][0], cmap='gray')\n",
    "    ax2.set_title('Threshold', fontsize=20)\n",
    "    ax3.imshow(output_images[i][1], cmap='gray')\n",
    "    ax3.set_title('Warped - Draw window', fontsize=20)\n",
    "    ax4.imshow(output_images[i][2])\n",
    "    ax4.set_title('Lane Detection', fontsize=20)\n",
    "\n",
    "    plt.subplots_adjust(left=0.1, right=0.9, top=0.9, bottom=0.)"
   ]
  },
  {
   "cell_type": "markdown",
   "metadata": {},
   "source": [
    "## Test on Videos"
   ]
  },
  {
   "cell_type": "code",
   "execution_count": null,
   "metadata": {
    "collapsed": true
   },
   "outputs": [],
   "source": [
    "from moviepy.editor import VideoFileClip\n",
    "from IPython.display import HTML\n",
    "\n",
    "output_path = 'output_videos/'"
   ]
  },
  {
   "cell_type": "code",
   "execution_count": null,
   "metadata": {
    "collapsed": true
   },
   "outputs": [],
   "source": [
    "video_name = 'project_video.mp4'\n",
    "cap = cv2.VideoCapture(video_name)\n",
    "while(cap.isOpened()):\n",
    "    ret, frame = cap.read()\n",
    "    if ret == False:\n",
    "        continue\n",
    "    cv2.imshow('Video', frame)\n",
    "    k = cv2.waitKey(33)\n",
    "    if k==27:    # Esc key to stop\n",
    "        break\n",
    "cap.release()\n",
    "cv2.destroyAllWindows()"
   ]
  },
  {
   "cell_type": "code",
   "execution_count": null,
   "metadata": {
    "collapsed": true
   },
   "outputs": [],
   "source": [
    "debug_mode = True\n",
    "video_name = 'project_video.mp4'\n",
    "cap = cv2.VideoCapture(video_name)\n",
    "i = 0\n",
    "while(cap.isOpened()):\n",
    "    # Capture frame-by-frame\n",
    "    ret, frame = cap.read()\n",
    "    if ret == False:\n",
    "        continue\n",
    "\n",
    "    # Our operations on the frame come here\n",
    "    rgb = cv2.cvtColor(frame, cv2.COLOR_BGR2RGB)\n",
    "    out = process_image(rgb)\n",
    "\n",
    "    warped_bgr = cv2.cvtColor(out[1], cv2.COLOR_RGB2BGR)\n",
    "    bgr = cv2.cvtColor(out[2], cv2.COLOR_RGB2BGR)\n",
    "\n",
    "    # Display the resulting frame\n",
    "    #cv2.imwrite(output_path + 'input_images/%d.png' %i, frame)\n",
    "    #cv2.imwrite(output_path + 'output_images/%d.png' %i, bgr)\n",
    "    #i += 1\n",
    "    cv2.namedWindow('Warped', cv2.WINDOW_NORMAL)\n",
    "    cv2.resizeWindow('Warped', 400, 300)\n",
    "    cv2.imshow('Warped', bgr)\n",
    "    #cv2.namedWindow('Video', cv2.WINDOW_NORMAL)\n",
    "    #cv2.resizeWindow('Video', 400, 300)\n",
    "    #cv2.imshow('Video', bgr)\n",
    "    k = cv2.waitKey(33)\n",
    "    if k==27:    # Esc key to stop\n",
    "        break\n",
    "\n",
    "# When everything done, release the capture\n",
    "cap.release()\n",
    "cv2.destroyAllWindows()"
   ]
  },
  {
   "cell_type": "markdown",
   "metadata": {},
   "source": [
    "### Video Project"
   ]
  },
  {
   "cell_type": "code",
   "execution_count": null,
   "metadata": {
    "collapsed": true
   },
   "outputs": [],
   "source": [
    "window_centroids_pre = [] # init\n",
    "debug_mode = False\n",
    "\n",
    "video_name = 'project_video.mp4'\n",
    "clip1 = VideoFileClip(video_name)\n",
    "white_clip = clip1.fl_image(process_image) #NOTE: this function expects color images!!\n",
    "%time white_clip.write_videofile(output_path+video_name, audio=False)"
   ]
  },
  {
   "cell_type": "code",
   "execution_count": null,
   "metadata": {
    "collapsed": true,
    "scrolled": true
   },
   "outputs": [],
   "source": [
    "HTML(\"\"\"\n",
    "<video width=\"960\" height=\"540\" controls>\n",
    "  <source src=\"{0}\">\n",
    "</video>\n",
    "\"\"\".format(output_path+video_name))"
   ]
  },
  {
   "cell_type": "markdown",
   "metadata": {},
   "source": [
    "### Video Challenge"
   ]
  },
  {
   "cell_type": "code",
   "execution_count": null,
   "metadata": {
    "collapsed": true
   },
   "outputs": [],
   "source": [
    "\n",
    "video_name = 'challenge_video.mp4'\n",
    "clip1 = VideoFileClip(video_name)\n",
    "white_clip = clip1.fl_image(process_image) #NOTE: this function expects color images!!\n",
    "%time white_clip.write_videofile(output_path+video_name, audio=False)\n"
   ]
  },
  {
   "cell_type": "code",
   "execution_count": null,
   "metadata": {
    "collapsed": true
   },
   "outputs": [],
   "source": [
    "HTML(\"\"\"\n",
    "<video width=\"960\" height=\"540\" controls>\n",
    "  <source src=\"{0}\">\n",
    "</video>\n",
    "\"\"\".format(output_path+video_name))"
   ]
  },
  {
   "cell_type": "markdown",
   "metadata": {},
   "source": [
    "### Video Harder Challenge"
   ]
  },
  {
   "cell_type": "code",
   "execution_count": null,
   "metadata": {
    "collapsed": true
   },
   "outputs": [],
   "source": [
    "'''\n",
    "video_name = 'harder_challenge_video.mp4'\n",
    "clip1 = VideoFileClip(video_name)\n",
    "white_clip = clip1.fl_image(process_image) #NOTE: this function expects color images!!\n",
    "%time white_clip.write_videofile(output_path+video_name, audio=False)\n",
    "'''"
   ]
  },
  {
   "cell_type": "code",
   "execution_count": null,
   "metadata": {
    "collapsed": true
   },
   "outputs": [],
   "source": [
    "HTML(\"\"\"\n",
    "<video width=\"960\" height=\"540\" controls>\n",
    "  <source src=\"{0}\">\n",
    "</video>\n",
    "\"\"\".format(output_path+video_name))"
   ]
  }
 ],
 "metadata": {
  "anaconda-cloud": {},
  "kernelspec": {
   "display_name": "Python 3",
   "language": "python",
   "name": "python3"
  },
  "language_info": {
   "codemirror_mode": {
    "name": "ipython",
    "version": 3
   },
   "file_extension": ".py",
   "mimetype": "text/x-python",
   "name": "python",
   "nbconvert_exporter": "python",
   "pygments_lexer": "ipython3",
   "version": "3.5.2"
  },
  "widgets": {
   "state": {},
   "version": "1.1.2"
  }
 },
 "nbformat": 4,
 "nbformat_minor": 1
}
